{
 "cells": [
  {
   "cell_type": "markdown",
   "id": "6b4d5b18",
   "metadata": {},
   "source": [
    "# Assignment : Statistics Advance - 2"
   ]
  },
  {
   "cell_type": "markdown",
   "id": "2739e589",
   "metadata": {},
   "source": [
    "## Theoritical Questions"
   ]
  },
  {
   "cell_type": "markdown",
   "id": "436234f1",
   "metadata": {},
   "source": [
    "#### Question 1: What is hypothesis testing in statistics?\n",
    "\n",
    "#### Answer 1:\n",
    " Hypothesis testing is a method used to decide whether there is enough evidence to support a specific claim (hypothesis) about a population based on sample data.\n",
    "\n",
    "-------------------------------------------------------"
   ]
  },
  {
   "cell_type": "markdown",
   "id": "48bc664a",
   "metadata": {},
   "source": [
    "#### Question 2: What is the null hypothesis, and how does it differ from the alternative hypothesis?\n",
    "\n",
    "#### Answer 2:\n",
    " Null hypothesis (H₀): Assumes no effect or no difference; it is the default assumption.\n",
    "\n",
    " Alternative hypothesis (H₁ or Ha): Represents the claim you want to test, suggesting there is an effect or difference.\n",
    "\n",
    " Example:\n",
    " H₀: μ = 50 (no change)\n",
    "  H₁: μ ≠ 50 (there is a change)\n",
    "\n",
    "------------------------------------------------------"
   ]
  },
  {
   "cell_type": "markdown",
   "id": "d944194f",
   "metadata": {},
   "source": [
    "#### Question 3: What is the significance level in hypothesis testing, and why is it important?\n",
    "\n",
    "#### Answer 3:\n",
    " The significance level (α) is the threshold for rejecting the null hypothesis, commonly set at 0.05. It represents the probability of making a Type I error (rejecting H₀ when it's actually true).\n",
    "\n",
    "--------------------------------------------------------"
   ]
  },
  {
   "cell_type": "markdown",
   "id": "24f8a776",
   "metadata": {},
   "source": [
    "#### Question 4: What does a P-value represent in hypothesis testing?\n",
    "\n",
    "#### Answer 4:\n",
    " The P-value is the probability of obtaining results at least as extreme as the observed ones, assuming that the null hypothesis is true.\n",
    "\n",
    "----------------------------------------------------"
   ]
  },
  {
   "cell_type": "markdown",
   "id": "3d8aa801",
   "metadata": {},
   "source": [
    "#### Question 5: How do you interpret the P-value in hypothesis testing?\n",
    "\n",
    "#### Answer 5:\n",
    " If P-value ≤ α: Reject H₀ (evidence supports H₁).\n",
    "\n",
    " If P-value > α: Do not reject H₀ (not enough evidence for H₁).\n",
    "\n",
    "--------------------------------------------------------"
   ]
  },
  {
   "cell_type": "markdown",
   "id": "251da8b6",
   "metadata": {},
   "source": [
    "#### Question 6: What are Type 1 and Type 2 errors in hypothesis testing?\n",
    "\n",
    "#### Answer 6:\n",
    " Type I error (α): Rejecting a true null hypothesis.\n",
    "\n",
    " Type II error (β): Failing to reject a false null hypothesis.\n",
    "\n",
    "---------------------------------------------------------"
   ]
  },
  {
   "cell_type": "markdown",
   "id": "0a8eceeb",
   "metadata": {},
   "source": [
    "#### Question 7: What is the difference between a one-tailed and a two-tailed test in hypothesis testing?\n",
    "\n",
    "#### Answer 7:\n",
    " One-tailed test: Tests for an effect in one direction (e.g., μ > 50).\n",
    "\n",
    " Two-tailed test: Tests for an effect in both directions (e.g., μ ≠ 50).\n",
    "\n",
    "--------------------------------------------------------"
   ]
  },
  {
   "cell_type": "markdown",
   "id": "d8641151",
   "metadata": {},
   "source": [
    "#### Question 8: What is the Z-test, and when is it used in hypothesis testing?\n",
    "\n",
    "#### Answer 8:\n",
    " A Z-test is used to test the mean of a population when:\n",
    " The population standard deviation is known.\n",
    " The sample size is large (n ≥ 30)\n",
    "\n",
    "----------------------------------------------------------"
   ]
  },
  {
   "cell_type": "markdown",
   "id": "bd8f6ea6",
   "metadata": {},
   "source": [
    "#### Question 9: How do you calculate the Z-score, and what does it represent in hypothesis testing?\n",
    "\n",
    "#### Answer 9: \n",
    "\n",
    "Z = (X̄ - μ) / (σ / √n)\n",
    "Where:\n",
    "\n",
    "X̄ = sample mean\n",
    "μ = population mean\n",
    "σ = population standard deviation\n",
    "n = sample size\n",
    "The Z-score shows how many standard deviations the sample mean is from the population mean.\n",
    "\n",
    "------------------------------------------------"
   ]
  },
  {
   "cell_type": "markdown",
   "id": "3674454b",
   "metadata": {},
   "source": [
    "#### Question 10: What is the T-distribution, and when should it be used instead of the normal distribution?\n",
    "\n",
    "#### Answer 10:\n",
    " The T-distribution is used when the sample size is small (n < 30) and the population standard deviation is unknown. It is wider and has heavier tails than the normal distribution.\n",
    "\n",
    "-----------------------------------------------------"
   ]
  },
  {
   "cell_type": "markdown",
   "id": "69b9285d",
   "metadata": {},
   "source": [
    "#### Question 11: What is the difference between a Z-test and a T-test?\n",
    "\n",
    "#### Answer 11:\n",
    " Z-test: Used when σ is known and n is large.\n",
    " T-test: Used when σ is unknown and/or n is small.\n",
    "\n",
    "------------------------------------------------------"
   ]
  },
  {
   "cell_type": "markdown",
   "id": "a2c705bb",
   "metadata": {},
   "source": [
    "#### Question 12:  What is the T-test, and how is it used in hypothesis testing?\n",
    "\n",
    "#### Answer 12:\n",
    " A T-test evaluates whether the sample mean significantly differs from a known or hypothesized population mean. It uses the t-distribution.\n",
    "\n",
    "-----------------------------------------------------"
   ]
  },
  {
   "cell_type": "markdown",
   "id": "962c3361",
   "metadata": {},
   "source": [
    "#### Question 13: What is the relationship between Z-test and T-test in hypothesis testing?\n",
    "\n",
    "#### Answer 13:\n",
    "Both test population means, but:\n",
    "Z-test: known σ\n",
    "T-test: unknown σ\n",
    "As n increases, the t-distribution approaches the normal (Z) distribution.\n",
    "\n",
    "--------------------------------------------------"
   ]
  },
  {
   "cell_type": "markdown",
   "id": "93b0be5c",
   "metadata": {},
   "source": [
    "#### Question 14: What is a confidence interval, and how is it used to interpret statistical results?\n",
    "\n",
    "#### Answer 14:\n",
    " A confidence interval (CI) provides a range of values that likely contains the population parameter. For example, a 95% CI means you are 95% confident the true mean lies within the interval.\n",
    "\n",
    "----------------------------------------------"
   ]
  },
  {
   "cell_type": "markdown",
   "id": "951823da",
   "metadata": {},
   "source": [
    "#### Question 15: What is the margin of error, and how does it affect the confidence interval?\n",
    "\n",
    "#### Answer 15:\n",
    " The margin of error (ME) is the range added/subtracted from the sample statistic to create the CI. Larger ME means a wider CI and more uncertainty.\n",
    "\n",
    "--------------------------------------------------------"
   ]
  },
  {
   "cell_type": "markdown",
   "id": "8f9a6cd7",
   "metadata": {},
   "source": [
    "#### Question 16: How is Bayes' Theorem used in statistics, and what is its significance?\n",
    "\n",
    "#### Answer 16:\n",
    " Bayes' Theorem updates the probability of a hypothesis based on new evidence. It's crucial in Bayesian inference and helps in decision-making under uncertainty.\n",
    "\n",
    "--------------------------------------------------------"
   ]
  },
  {
   "cell_type": "markdown",
   "id": "af1b5e6d",
   "metadata": {},
   "source": [
    "#### Question 17: What is the Chi-square distribution, and when is it used?\n",
    "\n",
    "#### Answer 17:\n",
    " The Chi-square distribution is used for categorical data, especially in:\n",
    "\n",
    " Goodness-of-fit tests\n",
    " Independence tests in contingency tables\n",
    "\n",
    "---------------------------------------------------------"
   ]
  },
  {
   "cell_type": "markdown",
   "id": "c3203e36",
   "metadata": {},
   "source": [
    "#### Question 18: What is the Chi-square goodness of fit test, and how is it applied?\n",
    "\n",
    "#### Answer 18:\n",
    " It tests whether observed frequencies match expected frequencies for a categorical variable. It checks if a sample distribution fits a theoretical one.\n",
    "\n",
    "------------------------------------------------------"
   ]
  },
  {
   "cell_type": "markdown",
   "id": "b2f8246f",
   "metadata": {},
   "source": [
    "#### Question 19: What is the F-distribution, and when is it used in hypothesis testing?\n",
    "\n",
    "#### Answer 19:\n",
    " The F-distribution compares variances between two or more groups. It's used in ANOVA and other variance-related tests.\n",
    "\n",
    "--------------------------------------------------------"
   ]
  },
  {
   "cell_type": "markdown",
   "id": "32818996",
   "metadata": {},
   "source": [
    "#### Question 20: What is an ANOVA test, and what are its assumptions?\n",
    "\n",
    "#### Answer 20:\n",
    " ANOVA (Analysis of Variance) tests whether means of three or more groups differ. Assumptions:\n",
    "\n",
    " Independence\n",
    " Normally distributed groups\n",
    " Equal variances (homogeneity)\n",
    "\n",
    "------------------------------------------------------"
   ]
  },
  {
   "cell_type": "markdown",
   "id": "63db1468",
   "metadata": {},
   "source": [
    "#### Question 21: What are the different types of ANOVA tests?\n",
    "\n",
    "#### Answer 21:\n",
    " One-way ANOVA: One independent variable.\n",
    " Two-way ANOVA: Two independent variables.\n",
    " Repeated Measures ANOVA: Same subjects tested multiple times.\n",
    "\n",
    "-----------------------------------------------------"
   ]
  },
  {
   "cell_type": "markdown",
   "id": "c8f1ed9a",
   "metadata": {},
   "source": [
    "#### Question 22: What is the F-test, and how does it relate to hypothesis testing?\n",
    "\n",
    "### Answer 22:\n",
    " An F-test compares two variances. It’s central to ANOVA, where it checks if the between-group variability is greater than within-group variability.\n",
    "\n",
    "-------------------------------------------------------"
   ]
  },
  {
   "cell_type": "markdown",
   "id": "23951d9a",
   "metadata": {},
   "source": [
    "## Practicle Questions"
   ]
  },
  {
   "cell_type": "code",
   "execution_count": null,
   "id": "378ccba3",
   "metadata": {},
   "outputs": [
    {
     "data": {
      "text/plain": [
       "0.040065197858962565"
      ]
     },
     "execution_count": 1,
     "metadata": {},
     "output_type": "execute_result"
    }
   ],
   "source": [
    "#Question 1: Generate a random variable and display its value\n",
    "import numpy as np\n",
    "\n",
    "# Generate and display a random float between 0 and 1\n",
    "random_variable = np.random.rand()\n",
    "random_variable"
   ]
  },
  {
   "cell_type": "code",
   "execution_count": 3,
   "id": "17da60e8",
   "metadata": {},
   "outputs": [
    {
     "data": {
      "image/png": "[encoded data removed]",
      "text/plain": [
       "<Figure size 640x480 with 1 Axes>"
      ]
     },
     "metadata": {},
     "output_type": "display_data"
    }
   ],
   "source": [
    "#Question 2:Generate a discrete uniform distribution and plot the PMF\n",
    "import matplotlib.pyplot as plt\n",
    "from scipy.stats import randint\n",
    "\n",
    "# Discrete uniform distribution over integers 1 to 6 (like a die roll)\n",
    "x = np.arange(1, 7)\n",
    "pmf = randint.pmf(x, 1, 7)\n",
    "\n",
    "plt.stem(x, pmf, basefmt=\" \")\n",
    "plt.title(\"PMF of Discrete Uniform Distribution (1–6)\")\n",
    "plt.xlabel(\"Value\")\n",
    "plt.ylabel(\"Probability\")\n",
    "plt.grid(True)\n",
    "plt.show()\n"
   ]
  },
  {
   "cell_type": "code",
   "execution_count": null,
   "id": "cb2ffaac",
   "metadata": {},
   "outputs": [],
   "source": []
  }
 ],
 "metadata": {
  "kernelspec": {
   "display_name": "Python 3",
   "language": "python",
   "name": "python3"
  },
  "language_info": {
   "codemirror_mode": {
    "name": "ipython",
    "version": 3
   },
   "file_extension": ".py",
   "mimetype": "text/x-python",
   "name": "python",
   "nbconvert_exporter": "python",
   "pygments_lexer": "ipython3",
   "version": "3.12.3"
  }
 },
 "nbformat": 4,
 "nbformat_minor": 5
}
